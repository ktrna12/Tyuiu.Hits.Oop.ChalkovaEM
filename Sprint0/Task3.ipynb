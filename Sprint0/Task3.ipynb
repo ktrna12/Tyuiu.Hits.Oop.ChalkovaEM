{
 "cells": [
  {
   "cell_type": "markdown",
   "metadata": {},
   "source": [
    "<h1 style=\"color:DodgerBlue\">Индивидальный проект</h1>"
   ]
  },
  {
   "cell_type": "markdown",
   "metadata": {},
   "source": [
    "<h2 style=\"color:DodgerBlue\">Название проекта:</h2>\n",
    "\n",
    "----\n",
    "\n",
    "### Вариант задания 18\n"
   ]
  },
  {
   "cell_type": "markdown",
   "metadata": {},
   "source": [
    "<h2 style=\"color:DodgerBlue\">Описание проекта:</h2>\n",
    "\n",
    "----\n",
    "\n",
    "Описание задачи:\n",
    "Создать базовый класс Review в C#, который будет представлять отзывы о\n",
    "продуктах или услугах. На основе этого класса разработать 2-3 производных класса,\n",
    "демонстрирующих принципы наследования и полиморфизма. В каждом из классов\n",
    "должны быть реализованы новые атрибуты и методы, а также переопределены\n",
    "некоторые методы базового класса для демонстрации полиморфизма.\n",
    "Требования к базовому классу Review:\n",
    "• Атрибуты: ID отзыва (ReviewId), Текст отзыва (Text), Рейтинг (Rating).\n",
    "• Методы:\n",
    "o DisplayReview(): метод для отображения отзыва.\n",
    "o RateProduct(): метод для присвоения рейтинга продукту.\n",
    "o GetReviewDetails(): метод для получения деталей отзыва.\n",
    "Требования к производным классам:\n",
    "1. ОтзывОбслуживания (ServiceReview): Должен содержать дополнительные\n",
    "атрибуты, такие как Дата посещения (VisitDate).\n",
    "Метод DisplayReview() должен быть переопределен для включения даты\n",
    "посещения в отображение отзыва.\n",
    "2. ОтзывТовара (ProductReview): Должен содержать дополнительные атрибуты,\n",
    "такие как Идентификатор продукта (ProductId). Метод RateProduct() должен\n",
    "быть переопределен для связывания рейтинга с конкретным продуктом.\n",
    "3. ОтзывУслуги (ServiceReview) (если требуется третий класс): Должен\n",
    "содержать дополнительные атрибуты, такие как Время начала услуги\n",
    "(StartTime). Метод GetReviewDetails() должен быть переопределен для\n",
    "отображения времени начала услуги вместе с другими деталями отзыва.\n"
   ]
  },
  {
   "cell_type": "markdown",
   "metadata": {},
   "source": [
    "<h2 style=\"color:DodgerBlue\">Реализация:</h2>\n",
    "\n",
    "----"
   ]
  },
  {
   "cell_type": "code",
   "execution_count": 2,
   "metadata": {
    "dotnet_interactive": {
     "language": "csharp"
    },
    "polyglot_notebook": {
     "kernelName": "csharp"
    }
   },
   "outputs": [],
   "source": [
    "public class Review\n",
    "{\n",
    "    public int ReviewId { get; set; }\n",
    "    public string Text { get; set; }\n",
    "    public int Rating { get; set; }\n",
    "\n",
    "    public virtual void DisplayReview()\n",
    "    {\n",
    "        Console.WriteLine($\"Отзыв #{ReviewId}: {Text}, Рейтинг: {Rating}\");\n",
    "    }\n",
    "\n",
    "    public virtual void RateProduct(int rating)\n",
    "    {\n",
    "        Rating = rating;\n",
    "        Console.WriteLine($\"Присвоен рейтинг: {rating}\");\n",
    "    }\n",
    "\n",
    "    public virtual string GetReviewDetails()\n",
    "    {\n",
    "        return $\"Отзыв #{ReviewId}: {Text}, Рейтинг: {Rating}\";\n",
    "    }\n",
    "}\n",
    "\n",
    "public class ServiceReview : Review\n",
    "{\n",
    "    public DateTime VisitDate { get; set; }\n",
    "\n",
    "    public override void DisplayReview()\n",
    "    {\n",
    "        Console.WriteLine($\"Отзыв на обслуживание #{ReviewId}: {Text}, Рейтинг: {Rating}, Дата посещения: {VisitDate.ToShortDateString()}\");\n",
    "    }\n",
    "\n",
    "    public override string GetReviewDetails()\n",
    "    {\n",
    "        return base.GetReviewDetails() + $\", Дата посещения: {VisitDate.ToShortDateString()}\";\n",
    "    }\n",
    "}\n",
    "\n",
    "public class ProductReview : Review\n",
    "{\n",
    "    public int ProductId { get; set; }\n",
    "\n",
    "    public override void RateProduct(int rating)\n",
    "    {\n",
    "        Rating = rating;\n",
    "        Console.WriteLine($\"Присвоен рейтинг продукту с ID {ProductId}: {rating}\");\n",
    "    }\n",
    "\n",
    "    public override string GetReviewDetails()\n",
    "    {\n",
    "        return base.GetReviewDetails() + $\", ID продукта: {ProductId}\";\n",
    "    }\n",
    "}\n",
    "\n",
    "public class ServiceTimeReview : ServiceReview\n",
    "{\n",
    "    public TimeSpan StartTime { get; set; }\n",
    "\n",
    "    public override string GetReviewDetails()\n",
    "    {\n",
    "        return base.GetReviewDetails() + $\", Время начала услуги: {StartTime}\";\n",
    "    }\n",
    "}\n",
    "ServiceReview serviceReview = new ServiceReview\n",
    "{\n",
    "    ReviewId = 1,\n",
    "    Text = \"Отличное обслуживание!\",\n",
    "    Rating = 5,\n",
    "    VisitDate = new DateTime(2024, 9, 10)\n",
    "};\n",
    "serviceReview.DisplayReview();\n",
    "Console.WriteLine(serviceReview.GetReviewDetails());\n",
    "\n",
    "        \n",
    "ProductReview productReview = new ProductReview\n",
    "{\n",
    "    ReviewId = 2,\n",
    "    Text = \"Продукт высокого качества\",\n",
    "    Rating = 4,\n",
    "    ProductId = 101\n",
    "};\n",
    "productReview.RateProduct(5);\n",
    "Console.WriteLine(productReview.GetReviewDetails());\n",
    "\n",
    "        \n",
    "ServiceTimeReview serviceTimeReview = new ServiceTimeReview\n",
    "{\n",
    "    ReviewId = 3,\n",
    "    Text = \"Хорошая услуга\",\n",
    "    Rating = 4,\n",
    "    VisitDate = new DateTime(2024, 9, 11),\n",
    "    StartTime = new TimeSpan(14, 0, 0)\n",
    "};\n",
    "Console.WriteLine(serviceTimeReview.GetReviewDetails());\n"
   ]
  }
 ],
 "metadata": {
  "kernelspec": {
   "display_name": ".NET (C#)",
   "language": "C#",
   "name": ".net-csharp"
  },
  "polyglot_notebook": {
   "kernelInfo": {
    "defaultKernelName": "csharp",
    "items": [
     {
      "aliases": [],
      "languageName": "csharp",
      "name": "csharp"
     }
    ]
   }
  }
 },
 "nbformat": 4,
 "nbformat_minor": 2
}
