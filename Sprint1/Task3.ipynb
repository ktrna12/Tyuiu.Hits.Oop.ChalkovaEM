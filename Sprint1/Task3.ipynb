{
 "cells": [
  {
   "cell_type": "markdown",
   "metadata": {},
   "source": [
    "<h1 style=\"color:DodgerBlue\">Индивидальный проект</h1>"
   ]
  },
  {
   "cell_type": "markdown",
   "metadata": {},
   "source": [
    "<h2 style=\"color:DodgerBlue\">Название проекта:</h2>\n",
    "\n",
    "----\n",
    "\n",
    "### Вариант задания 18\n"
   ]
  },
  {
   "cell_type": "markdown",
   "metadata": {},
   "source": [
    "<h2 style=\"color:DodgerBlue\">Описание проекта:</h2>\n",
    "\n",
    "----\n",
    "\n",
    "Описание задачи:\n",
    "Создать базовый класс Review в C#, который будет представлять отзывы о\n",
    "продуктах или услугах. На основе этого класса разработать 2-3 производных класса,\n",
    "демонстрирующих принципы наследования и полиморфизма. В каждом из классов\n",
    "должны быть реализованы новые атрибуты и методы, а также переопределены\n",
    "некоторые методы базового класса для демонстрации полиморфизма.\n",
    "Требования к базовому классу Review:\n",
    "• Атрибуты: ID отзыва (ReviewId), Текст отзыва (Text), Рейтинг (Rating).\n",
    "• Методы:\n",
    "o DisplayReview(): метод для отображения отзыва.\n",
    "o RateProduct(): метод для присвоения рейтинга продукту.\n",
    "o GetReviewDetails(): метод для получения деталей отзыва.\n",
    "Требования к производным классам:\n",
    "1. ОтзывОбслуживания (ServiceReview): Должен содержать дополнительные\n",
    "атрибуты, такие как Дата посещения (VisitDate).\n",
    "Метод DisplayReview() должен быть переопределен для включения даты\n",
    "посещения в отображение отзыва.\n",
    "2. ОтзывТовара (ProductReview): Должен содержать дополнительные атрибуты,\n",
    "такие как Идентификатор продукта (ProductId). Метод RateProduct() должен\n",
    "быть переопределен для связывания рейтинга с конкретным продуктом.\n",
    "3. ОтзывУслуги (ServiceReview) (если требуется третий класс): Должен\n",
    "содержать дополнительные атрибуты, такие как Время начала услуги\n",
    "(StartTime). Метод GetReviewDetails() должен быть переопределен для\n",
    "отображения времени начала услуги вместе с другими деталями отзыва.\n",
    "\n",
    "#### Дополнительное задание\n",
    "Добавьте к сущестующим классам конструктора классов с использованием гетторов и сетторов и реализуйте взаимодействие объектов между собой"
   ]
  },
  {
   "cell_type": "markdown",
   "metadata": {},
   "source": [
    "<h2 style=\"color:DodgerBlue\">Реализация:</h2>\n",
    "\n",
    "----"
   ]
  },
  {
   "cell_type": "code",
   "execution_count": 1,
   "metadata": {
    "dotnet_interactive": {
     "language": "csharp"
    },
    "polyglot_notebook": {
     "kernelName": "csharp"
    }
   },
   "outputs": [
    {
     "name": "stdout",
     "output_type": "stream",
     "text": [
      "Отзыв на обслуживание #1: Отличное обслуживание!, Рейтинг: 5, Дата посещения: 9/10/2024\n",
      "Отзыв #1: Отличное обслуживание!, Рейтинг: 5, Дата посещения: 9/10/2024\n",
      "Присвоен рейтинг продукту с ID 101: 5\n",
      "Отзыв #2: Продукт высокого качества, Рейтинг: 5, ID продукта: 101\n",
      "Отзыв #3: Хорошая услуга, Рейтинг: 4, Дата посещения: 9/11/2024, Время начала услуги: 14:00:00\n",
      "Сравнение отзывов: \n",
      "1) Отзыв #1: Отличное обслуживание!, Рейтинг: 5, Дата посещения: 9/10/2024 \n",
      "2) Отзыв #2: Продукт высокого качества, Рейтинг: 5, ID продукта: 101\n"
     ]
    }
   ],
   "source": [
    "public class Review\n",
    "{\n",
    "    public int ReviewId { get; set; }\n",
    "    public string Text { get; set; }\n",
    "    public int Rating { get; set; }\n",
    "\n",
    "    public Review(int reviewId, string text, int rating)\n",
    "    {\n",
    "        ReviewId = reviewId;\n",
    "        Text = text;\n",
    "        Rating = rating;\n",
    "    }\n",
    "\n",
    "    public virtual void DisplayReview()\n",
    "    {\n",
    "        Console.WriteLine($\"Отзыв #{ReviewId}: {Text}, Рейтинг: {Rating}\");\n",
    "    }\n",
    "\n",
    "    public virtual void RateProduct(int rating)\n",
    "    {\n",
    "        Rating = rating;\n",
    "        Console.WriteLine($\"Присвоен рейтинг: {rating}\");\n",
    "    }\n",
    "\n",
    "    public virtual string GetReviewDetails()\n",
    "    {\n",
    "        return $\"Отзыв #{ReviewId}: {Text}, Рейтинг: {Rating}\";\n",
    "    }\n",
    "}\n",
    "\n",
    "public class ServiceReview : Review\n",
    "{\n",
    "    public DateTime VisitDate { get; set; }\n",
    "\n",
    "    public ServiceReview(int reviewId, string text, int rating, DateTime visitDate)\n",
    "        : base(reviewId, text, rating)\n",
    "    {\n",
    "        VisitDate = visitDate;\n",
    "    }\n",
    "\n",
    "    public override void DisplayReview()\n",
    "    {\n",
    "        Console.WriteLine($\"Отзыв на обслуживание #{ReviewId}: {Text}, Рейтинг: {Rating}, Дата посещения: {VisitDate.ToShortDateString()}\");\n",
    "    }\n",
    "\n",
    "    public override string GetReviewDetails()\n",
    "    {\n",
    "        return base.GetReviewDetails() + $\", Дата посещения: {VisitDate.ToShortDateString()}\";\n",
    "    }\n",
    "}\n",
    "\n",
    "public class ProductReview : Review\n",
    "{\n",
    "    public int ProductId { get; set; }\n",
    "\n",
    "    public ProductReview(int reviewId, string text, int rating, int productId)\n",
    "        : base(reviewId, text, rating)\n",
    "    {\n",
    "        ProductId = productId;\n",
    "    }\n",
    "\n",
    "    public override void RateProduct(int rating)\n",
    "    {\n",
    "        Rating = rating;\n",
    "        Console.WriteLine($\"Присвоен рейтинг продукту с ID {ProductId}: {rating}\");\n",
    "    }\n",
    "\n",
    "    public override string GetReviewDetails()\n",
    "    {\n",
    "        return base.GetReviewDetails() + $\", ID продукта: {ProductId}\";\n",
    "    }\n",
    "}\n",
    "\n",
    "public class ServiceTimeReview : ServiceReview\n",
    "{\n",
    "    public TimeSpan StartTime { get; set; }\n",
    "\n",
    "    public ServiceTimeReview(int reviewId, string text, int rating, DateTime visitDate, TimeSpan startTime)\n",
    "        : base(reviewId, text, rating, visitDate)\n",
    "    {\n",
    "        StartTime = startTime;\n",
    "    }\n",
    "\n",
    "    public override string GetReviewDetails()\n",
    "    {\n",
    "        return base.GetReviewDetails() + $\", Время начала услуги: {StartTime}\";\n",
    "    }\n",
    "}\n",
    "\n",
    "public class ReviewInteraction\n",
    "{\n",
    "    public void CompareReviews(Review review1, Review review2)\n",
    "    {\n",
    "        Console.WriteLine($\"Сравнение отзывов: \\n1) {review1.GetReviewDetails()} \\n2) {review2.GetReviewDetails()}\");\n",
    "    }\n",
    "}\n",
    "\n",
    "    ServiceReview serviceReview = new ServiceReview(1, \"Отличное обслуживание!\", 5, new DateTime(2024, 9, 10));\n",
    "    serviceReview.DisplayReview();\n",
    "    Console.WriteLine(serviceReview.GetReviewDetails());\n",
    "\n",
    "    ProductReview productReview = new ProductReview(2, \"Продукт высокого качества\", 4, 101);\n",
    "    productReview.RateProduct(5);\n",
    "    Console.WriteLine(productReview.GetReviewDetails());\n",
    "\n",
    "    ServiceTimeReview serviceTimeReview = new ServiceTimeReview(3, \"Хорошая услуга\", 4, new DateTime(2024, 9, 11), new TimeSpan(14, 0, 0));\n",
    "    Console.WriteLine(serviceTimeReview.GetReviewDetails());\n",
    "\n",
    "    ReviewInteraction interaction = new ReviewInteraction();\n",
    "    interaction.CompareReviews(serviceReview, productReview);\n",
    "\n",
    "\n"
   ]
  }
 ],
 "metadata": {
  "kernelspec": {
   "display_name": ".NET (C#)",
   "language": "C#",
   "name": ".net-csharp"
  },
  "polyglot_notebook": {
   "kernelInfo": {
    "defaultKernelName": "csharp",
    "items": [
     {
      "aliases": [],
      "languageName": "csharp",
      "name": "csharp"
     }
    ]
   }
  }
 },
 "nbformat": 4,
 "nbformat_minor": 2
}
